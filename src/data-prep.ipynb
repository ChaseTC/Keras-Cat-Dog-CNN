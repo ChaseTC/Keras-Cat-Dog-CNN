{
 "cells": [
  {
   "cell_type": "code",
   "execution_count": 1,
   "id": "184e4171-f9ae-48c1-ae8a-8637939040a7",
   "metadata": {},
   "outputs": [],
   "source": [
    "import numpy as np\n",
    "import os\n",
    "import cv2\n",
    "from tqdm import tqdm"
   ]
  },
  {
   "cell_type": "code",
   "execution_count": 2,
   "id": "facd4001-3dd7-4b1f-809c-7a2185501cde",
   "metadata": {},
   "outputs": [],
   "source": [
    "DATA_DIR = \"../PetImages\"\n",
    "\n",
    "CATEGORIES = [\"Dog\", \"Cat\"]\n",
    "\n",
    "IMG_SIZE = 100\n",
    "\n",
    "training_data = []"
   ]
  },
  {
   "cell_type": "code",
   "execution_count": 3,
   "id": "4fd6d398-a5f8-455d-9db6-7203a290dd09",
   "metadata": {},
   "outputs": [
    {
     "name": "stderr",
     "output_type": "stream",
     "text": [
      "100%|███████████████████████████████████████████████████████████████████████████| 12501/12501 [00:29<00:00, 430.42it/s]\n",
      "100%|███████████████████████████████████████████████████████████████████████████| 12501/12501 [00:27<00:00, 460.01it/s]\n"
     ]
    }
   ],
   "source": [
    "def load_images():\n",
    "    for c in CATEGORIES:\n",
    "        path = os.path.join(DATA_DIR, c)\n",
    "        label = CATEGORIES.index(c)\n",
    "\n",
    "        for img in tqdm(os.listdir(path)):\n",
    "            try:\n",
    "                img_arr = cv2.imread(os.path.join(path, img), cv2.IMREAD_GRAYSCALE)\n",
    "                resize_arr = cv2.resize(img_arr, (IMG_SIZE, IMG_SIZE))\n",
    "                training_data.append([resize_arr, label])\n",
    "            except Exception as e:\n",
    "                pass\n",
    "\n",
    "load_images()"
   ]
  },
  {
   "cell_type": "code",
   "execution_count": 4,
   "id": "d49b65d1-c1ca-4b01-962c-f8bb22d6274e",
   "metadata": {},
   "outputs": [],
   "source": [
    "import random\n",
    "\n",
    "random.shuffle(training_data)"
   ]
  },
  {
   "cell_type": "code",
   "execution_count": 5,
   "id": "3cfc9c3f-8211-4e40-9c37-b6031fde7fb7",
   "metadata": {},
   "outputs": [],
   "source": [
    "X = []\n",
    "y = []\n",
    "\n",
    "for img, label in training_data:\n",
    "    X.append(img)\n",
    "    y.append(label)\n",
    "\n",
    "X = np.array(X).reshape(-1, IMG_SIZE, IMG_SIZE, 1)\n",
    "y = np.array(y)"
   ]
  },
  {
   "cell_type": "code",
   "execution_count": 6,
   "id": "537aa878-03bb-4f82-b783-5dd9af067399",
   "metadata": {},
   "outputs": [],
   "source": [
    "import pickle\n",
    "\n",
    "OUT_DIR = \"../data/\"\n",
    "\n",
    "if not os.path.exists(OUT_DIR):\n",
    "    os.mkdir(OUT_DIR)\n",
    "\n",
    "with open(OUT_DIR + \"X.pickle\", \"wb\") as f:\n",
    "    pickle.dump(X, f)\n",
    "\n",
    "with open(OUT_DIR + \"y.pickle\", \"wb\") as f:\n",
    "    pickle.dump(y, f)"
   ]
  }
 ],
 "metadata": {
  "kernelspec": {
   "display_name": "Python 3 (ipykernel)",
   "language": "python",
   "name": "python3"
  },
  "language_info": {
   "codemirror_mode": {
    "name": "ipython",
    "version": 3
   },
   "file_extension": ".py",
   "mimetype": "text/x-python",
   "name": "python",
   "nbconvert_exporter": "python",
   "pygments_lexer": "ipython3",
   "version": "3.10.4"
  }
 },
 "nbformat": 4,
 "nbformat_minor": 5
}
